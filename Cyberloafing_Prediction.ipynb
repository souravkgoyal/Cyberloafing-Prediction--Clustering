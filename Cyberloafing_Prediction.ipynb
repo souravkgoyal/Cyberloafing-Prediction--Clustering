{
 "cells": [
  {
   "cell_type": "markdown",
   "metadata": {},
   "source": [
    "# Problem Statement"
   ]
  },
  {
   "cell_type": "markdown",
   "metadata": {},
   "source": [
    "Detailed Business Case: \n",
    "In corporate world, Cyberloafing has become the most common malpractice these days in which employees use the Internet at workplaces for personal use while pretending to do legitimate work. \n",
    "Currently, companies are unable to find:\n",
    "1.\tEmployees indulged in Cyberloafing and the extent of Cyberloafing.\n",
    "2.\tInfluential Elements responsible for Cyberloafing.\n",
    "3.\tImpact of Cyberloafing on Productivity.\n"
   ]
  },
  {
   "cell_type": "code",
   "execution_count": 1,
   "metadata": {},
   "outputs": [],
   "source": [
    "import warnings\n",
    "warnings.filterwarnings('ignore')"
   ]
  },
  {
   "cell_type": "code",
   "execution_count": 2,
   "metadata": {},
   "outputs": [],
   "source": [
    "#libraries to be used\n",
    "import pandas as pd\n",
    "import numpy as np\n",
    "from sklearn.cluster import KMeans\n",
    "import seaborn as sns\n",
    "import matplotlib.pyplot as plt\n",
    "from factor_analyzer import FactorAnalyzer\n",
    "%matplotlib inline\n",
    "from factor_analyzer.factor_analyzer import calculate_bartlett_sphericity\n",
    "from factor_analyzer.factor_analyzer import calculate_kmo\n",
    "import scipy.cluster.hierarchy as sch\n",
    "from sklearn.cluster import AgglomerativeClustering\n",
    "from sklearn.neighbors import KNeighborsClassifier\n",
    "from sklearn.model_selection import train_test_split\n",
    "import requests"
   ]
  },
  {
   "cell_type": "markdown",
   "metadata": {},
   "source": [
    "# Importing Data and Preprocessing"
   ]
  },
  {
   "cell_type": "code",
   "execution_count": 3,
   "metadata": {},
   "outputs": [],
   "source": [
    "# Getting Data pulled from the Database\n",
    "url = \"https://falcons-cyber.firebaseio.com/train.json\"\n",
    "r = requests.get(url)\n",
    "v = r.json()"
   ]
  },
  {
   "cell_type": "code",
   "execution_count": 4,
   "metadata": {},
   "outputs": [
    {
     "data": {
      "text/html": [
       "<div>\n",
       "<style scoped>\n",
       "    .dataframe tbody tr th:only-of-type {\n",
       "        vertical-align: middle;\n",
       "    }\n",
       "\n",
       "    .dataframe tbody tr th {\n",
       "        vertical-align: top;\n",
       "    }\n",
       "\n",
       "    .dataframe thead th {\n",
       "        text-align: right;\n",
       "    }\n",
       "</style>\n",
       "<table border=\"1\" class=\"dataframe\">\n",
       "  <thead>\n",
       "    <tr style=\"text-align: right;\">\n",
       "      <th></th>\n",
       "      <th>age</th>\n",
       "      <th>employeeId</th>\n",
       "      <th>gender</th>\n",
       "      <th>internetUseEnjoyable</th>\n",
       "      <th>internetUseProductive</th>\n",
       "      <th>jobChallenging</th>\n",
       "      <th>jobEngaging</th>\n",
       "      <th>leisureTimeThingsToDo</th>\n",
       "      <th>monotonousAndBoring</th>\n",
       "      <th>monotonousAndTiring</th>\n",
       "      <th>...</th>\n",
       "      <th>needShortBreak</th>\n",
       "      <th>overTime</th>\n",
       "      <th>overallJobSatisfaction</th>\n",
       "      <th>peopleAroundUsesInternet</th>\n",
       "      <th>platformUsedOnInternet</th>\n",
       "      <th>productionScore</th>\n",
       "      <th>prominentTimeOfInternetUse</th>\n",
       "      <th>taskCompleted</th>\n",
       "      <th>timeSpentOnInternet</th>\n",
       "      <th>unnecessaryTeamMeetings</th>\n",
       "    </tr>\n",
       "  </thead>\n",
       "  <tbody>\n",
       "    <tr>\n",
       "      <th>Ajaykbansal68</th>\n",
       "      <td>51</td>\n",
       "      <td>Ajaykbansal68</td>\n",
       "      <td>1</td>\n",
       "      <td>1</td>\n",
       "      <td>1</td>\n",
       "      <td>4</td>\n",
       "      <td>4</td>\n",
       "      <td>1</td>\n",
       "      <td>1</td>\n",
       "      <td>4</td>\n",
       "      <td>...</td>\n",
       "      <td>2</td>\n",
       "      <td>2</td>\n",
       "      <td>4</td>\n",
       "      <td>2</td>\n",
       "      <td>3</td>\n",
       "      <td>9</td>\n",
       "      <td>2</td>\n",
       "      <td>2</td>\n",
       "      <td>2</td>\n",
       "      <td>1</td>\n",
       "    </tr>\n",
       "    <tr>\n",
       "      <th>Chetankg42</th>\n",
       "      <td>23</td>\n",
       "      <td>Chetankg42</td>\n",
       "      <td>1</td>\n",
       "      <td>4</td>\n",
       "      <td>4</td>\n",
       "      <td>4</td>\n",
       "      <td>4</td>\n",
       "      <td>2</td>\n",
       "      <td>5</td>\n",
       "      <td>4</td>\n",
       "      <td>...</td>\n",
       "      <td>5</td>\n",
       "      <td>5</td>\n",
       "      <td>3</td>\n",
       "      <td>3</td>\n",
       "      <td>1</td>\n",
       "      <td>4</td>\n",
       "      <td>4</td>\n",
       "      <td>5</td>\n",
       "      <td>4</td>\n",
       "      <td>1</td>\n",
       "    </tr>\n",
       "    <tr>\n",
       "      <th>aartichahar2565</th>\n",
       "      <td>24</td>\n",
       "      <td>aartichahar2565</td>\n",
       "      <td>0</td>\n",
       "      <td>3</td>\n",
       "      <td>3</td>\n",
       "      <td>5</td>\n",
       "      <td>4</td>\n",
       "      <td>1</td>\n",
       "      <td>1</td>\n",
       "      <td>1</td>\n",
       "      <td>...</td>\n",
       "      <td>4</td>\n",
       "      <td>1</td>\n",
       "      <td>4</td>\n",
       "      <td>1</td>\n",
       "      <td>1</td>\n",
       "      <td>9</td>\n",
       "      <td>3</td>\n",
       "      <td>5</td>\n",
       "      <td>2</td>\n",
       "      <td>2</td>\n",
       "    </tr>\n",
       "    <tr>\n",
       "      <th>abdulmuwahib</th>\n",
       "      <td>20</td>\n",
       "      <td>abdulmuwahib</td>\n",
       "      <td>1</td>\n",
       "      <td>4</td>\n",
       "      <td>3</td>\n",
       "      <td>4</td>\n",
       "      <td>4</td>\n",
       "      <td>1</td>\n",
       "      <td>4</td>\n",
       "      <td>4</td>\n",
       "      <td>...</td>\n",
       "      <td>4</td>\n",
       "      <td>3</td>\n",
       "      <td>4</td>\n",
       "      <td>3</td>\n",
       "      <td>1</td>\n",
       "      <td>6</td>\n",
       "      <td>2</td>\n",
       "      <td>3</td>\n",
       "      <td>4</td>\n",
       "      <td>3</td>\n",
       "    </tr>\n",
       "    <tr>\n",
       "      <th>abhi012355</th>\n",
       "      <td>22</td>\n",
       "      <td>abhi012355</td>\n",
       "      <td>1</td>\n",
       "      <td>4</td>\n",
       "      <td>2</td>\n",
       "      <td>2</td>\n",
       "      <td>3</td>\n",
       "      <td>2</td>\n",
       "      <td>4</td>\n",
       "      <td>3</td>\n",
       "      <td>...</td>\n",
       "      <td>2</td>\n",
       "      <td>4</td>\n",
       "      <td>3</td>\n",
       "      <td>2</td>\n",
       "      <td>1</td>\n",
       "      <td>6</td>\n",
       "      <td>4</td>\n",
       "      <td>4</td>\n",
       "      <td>4</td>\n",
       "      <td>2</td>\n",
       "    </tr>\n",
       "  </tbody>\n",
       "</table>\n",
       "<p>5 rows × 21 columns</p>\n",
       "</div>"
      ],
      "text/plain": [
       "                age       employeeId gender internetUseEnjoyable  \\\n",
       "Ajaykbansal68    51    Ajaykbansal68      1                    1   \n",
       "Chetankg42       23       Chetankg42      1                    4   \n",
       "aartichahar2565  24  aartichahar2565      0                    3   \n",
       "abdulmuwahib     20     abdulmuwahib      1                    4   \n",
       "abhi012355       22       abhi012355      1                    4   \n",
       "\n",
       "                internetUseProductive jobChallenging jobEngaging  \\\n",
       "Ajaykbansal68                       1              4           4   \n",
       "Chetankg42                          4              4           4   \n",
       "aartichahar2565                     3              5           4   \n",
       "abdulmuwahib                        3              4           4   \n",
       "abhi012355                          2              2           3   \n",
       "\n",
       "                leisureTimeThingsToDo monotonousAndBoring monotonousAndTiring  \\\n",
       "Ajaykbansal68                       1                   1                   4   \n",
       "Chetankg42                          2                   5                   4   \n",
       "aartichahar2565                     1                   1                   1   \n",
       "abdulmuwahib                        1                   4                   4   \n",
       "abhi012355                          2                   4                   3   \n",
       "\n",
       "                          ...           needShortBreak overTime  \\\n",
       "Ajaykbansal68             ...                        2        2   \n",
       "Chetankg42                ...                        5        5   \n",
       "aartichahar2565           ...                        4        1   \n",
       "abdulmuwahib              ...                        4        3   \n",
       "abhi012355                ...                        2        4   \n",
       "\n",
       "                overallJobSatisfaction peopleAroundUsesInternet  \\\n",
       "Ajaykbansal68                        4                        2   \n",
       "Chetankg42                           3                        3   \n",
       "aartichahar2565                      4                        1   \n",
       "abdulmuwahib                         4                        3   \n",
       "abhi012355                           3                        2   \n",
       "\n",
       "                platformUsedOnInternet productionScore  \\\n",
       "Ajaykbansal68                        3               9   \n",
       "Chetankg42                           1               4   \n",
       "aartichahar2565                      1               9   \n",
       "abdulmuwahib                         1               6   \n",
       "abhi012355                           1               6   \n",
       "\n",
       "                prominentTimeOfInternetUse taskCompleted timeSpentOnInternet  \\\n",
       "Ajaykbansal68                            2             2                   2   \n",
       "Chetankg42                               4             5                   4   \n",
       "aartichahar2565                          3             5                   2   \n",
       "abdulmuwahib                             2             3                   4   \n",
       "abhi012355                               4             4                   4   \n",
       "\n",
       "                unnecessaryTeamMeetings  \n",
       "Ajaykbansal68                         1  \n",
       "Chetankg42                            1  \n",
       "aartichahar2565                       2  \n",
       "abdulmuwahib                          3  \n",
       "abhi012355                            2  \n",
       "\n",
       "[5 rows x 21 columns]"
      ]
     },
     "execution_count": 4,
     "metadata": {},
     "output_type": "execute_result"
    }
   ],
   "source": [
    "trans=pd.DataFrame(v)\n",
    "df=trans.T\n",
    "df.head()"
   ]
  },
  {
   "cell_type": "code",
   "execution_count": 5,
   "metadata": {},
   "outputs": [
    {
     "data": {
      "text/plain": [
       "(110, 21)"
      ]
     },
     "execution_count": 5,
     "metadata": {},
     "output_type": "execute_result"
    }
   ],
   "source": [
    "df.shape"
   ]
  },
  {
   "cell_type": "code",
   "execution_count": 6,
   "metadata": {},
   "outputs": [
    {
     "data": {
      "text/html": [
       "<div>\n",
       "<style scoped>\n",
       "    .dataframe tbody tr th:only-of-type {\n",
       "        vertical-align: middle;\n",
       "    }\n",
       "\n",
       "    .dataframe tbody tr th {\n",
       "        vertical-align: top;\n",
       "    }\n",
       "\n",
       "    .dataframe thead th {\n",
       "        text-align: right;\n",
       "    }\n",
       "</style>\n",
       "<table border=\"1\" class=\"dataframe\">\n",
       "  <thead>\n",
       "    <tr style=\"text-align: right;\">\n",
       "      <th></th>\n",
       "      <th>age</th>\n",
       "      <th>employeeId</th>\n",
       "      <th>gender</th>\n",
       "      <th>internetUseEnjoyable</th>\n",
       "      <th>internetUseProductive</th>\n",
       "      <th>jobChallenging</th>\n",
       "      <th>jobEngaging</th>\n",
       "      <th>leisureTimeThingsToDo</th>\n",
       "      <th>monotonousAndBoring</th>\n",
       "      <th>monotonousAndTiring</th>\n",
       "      <th>...</th>\n",
       "      <th>needShortBreak</th>\n",
       "      <th>overTime</th>\n",
       "      <th>overallJobSatisfaction</th>\n",
       "      <th>peopleAroundUsesInternet</th>\n",
       "      <th>platformUsedOnInternet</th>\n",
       "      <th>productionScore</th>\n",
       "      <th>prominentTimeOfInternetUse</th>\n",
       "      <th>taskCompleted</th>\n",
       "      <th>timeSpentOnInternet</th>\n",
       "      <th>unnecessaryTeamMeetings</th>\n",
       "    </tr>\n",
       "  </thead>\n",
       "  <tbody>\n",
       "    <tr>\n",
       "      <th>Ajaykbansal68</th>\n",
       "      <td>51</td>\n",
       "      <td>Ajaykbansal68</td>\n",
       "      <td>1</td>\n",
       "      <td>1</td>\n",
       "      <td>1</td>\n",
       "      <td>4</td>\n",
       "      <td>4</td>\n",
       "      <td>1</td>\n",
       "      <td>1</td>\n",
       "      <td>4</td>\n",
       "      <td>...</td>\n",
       "      <td>2</td>\n",
       "      <td>2</td>\n",
       "      <td>4</td>\n",
       "      <td>2</td>\n",
       "      <td>3</td>\n",
       "      <td>9</td>\n",
       "      <td>2</td>\n",
       "      <td>2</td>\n",
       "      <td>2</td>\n",
       "      <td>1</td>\n",
       "    </tr>\n",
       "    <tr>\n",
       "      <th>Chetankg42</th>\n",
       "      <td>23</td>\n",
       "      <td>Chetankg42</td>\n",
       "      <td>1</td>\n",
       "      <td>4</td>\n",
       "      <td>4</td>\n",
       "      <td>4</td>\n",
       "      <td>4</td>\n",
       "      <td>2</td>\n",
       "      <td>5</td>\n",
       "      <td>4</td>\n",
       "      <td>...</td>\n",
       "      <td>5</td>\n",
       "      <td>5</td>\n",
       "      <td>3</td>\n",
       "      <td>3</td>\n",
       "      <td>1</td>\n",
       "      <td>4</td>\n",
       "      <td>4</td>\n",
       "      <td>5</td>\n",
       "      <td>4</td>\n",
       "      <td>1</td>\n",
       "    </tr>\n",
       "    <tr>\n",
       "      <th>aartichahar2565</th>\n",
       "      <td>24</td>\n",
       "      <td>aartichahar2565</td>\n",
       "      <td>0</td>\n",
       "      <td>3</td>\n",
       "      <td>3</td>\n",
       "      <td>5</td>\n",
       "      <td>4</td>\n",
       "      <td>1</td>\n",
       "      <td>1</td>\n",
       "      <td>1</td>\n",
       "      <td>...</td>\n",
       "      <td>4</td>\n",
       "      <td>1</td>\n",
       "      <td>4</td>\n",
       "      <td>1</td>\n",
       "      <td>1</td>\n",
       "      <td>9</td>\n",
       "      <td>3</td>\n",
       "      <td>5</td>\n",
       "      <td>2</td>\n",
       "      <td>2</td>\n",
       "    </tr>\n",
       "    <tr>\n",
       "      <th>abdulmuwahib</th>\n",
       "      <td>20</td>\n",
       "      <td>abdulmuwahib</td>\n",
       "      <td>1</td>\n",
       "      <td>4</td>\n",
       "      <td>3</td>\n",
       "      <td>4</td>\n",
       "      <td>4</td>\n",
       "      <td>1</td>\n",
       "      <td>4</td>\n",
       "      <td>4</td>\n",
       "      <td>...</td>\n",
       "      <td>4</td>\n",
       "      <td>3</td>\n",
       "      <td>4</td>\n",
       "      <td>3</td>\n",
       "      <td>1</td>\n",
       "      <td>6</td>\n",
       "      <td>2</td>\n",
       "      <td>3</td>\n",
       "      <td>4</td>\n",
       "      <td>3</td>\n",
       "    </tr>\n",
       "    <tr>\n",
       "      <th>abhi012355</th>\n",
       "      <td>22</td>\n",
       "      <td>abhi012355</td>\n",
       "      <td>1</td>\n",
       "      <td>4</td>\n",
       "      <td>2</td>\n",
       "      <td>2</td>\n",
       "      <td>3</td>\n",
       "      <td>2</td>\n",
       "      <td>4</td>\n",
       "      <td>3</td>\n",
       "      <td>...</td>\n",
       "      <td>2</td>\n",
       "      <td>4</td>\n",
       "      <td>3</td>\n",
       "      <td>2</td>\n",
       "      <td>1</td>\n",
       "      <td>6</td>\n",
       "      <td>4</td>\n",
       "      <td>4</td>\n",
       "      <td>4</td>\n",
       "      <td>2</td>\n",
       "    </tr>\n",
       "  </tbody>\n",
       "</table>\n",
       "<p>5 rows × 21 columns</p>\n",
       "</div>"
      ],
      "text/plain": [
       "                age       employeeId gender internetUseEnjoyable  \\\n",
       "Ajaykbansal68    51    Ajaykbansal68      1                    1   \n",
       "Chetankg42       23       Chetankg42      1                    4   \n",
       "aartichahar2565  24  aartichahar2565      0                    3   \n",
       "abdulmuwahib     20     abdulmuwahib      1                    4   \n",
       "abhi012355       22       abhi012355      1                    4   \n",
       "\n",
       "                internetUseProductive jobChallenging jobEngaging  \\\n",
       "Ajaykbansal68                       1              4           4   \n",
       "Chetankg42                          4              4           4   \n",
       "aartichahar2565                     3              5           4   \n",
       "abdulmuwahib                        3              4           4   \n",
       "abhi012355                          2              2           3   \n",
       "\n",
       "                leisureTimeThingsToDo monotonousAndBoring monotonousAndTiring  \\\n",
       "Ajaykbansal68                       1                   1                   4   \n",
       "Chetankg42                          2                   5                   4   \n",
       "aartichahar2565                     1                   1                   1   \n",
       "abdulmuwahib                        1                   4                   4   \n",
       "abhi012355                          2                   4                   3   \n",
       "\n",
       "                          ...           needShortBreak overTime  \\\n",
       "Ajaykbansal68             ...                        2        2   \n",
       "Chetankg42                ...                        5        5   \n",
       "aartichahar2565           ...                        4        1   \n",
       "abdulmuwahib              ...                        4        3   \n",
       "abhi012355                ...                        2        4   \n",
       "\n",
       "                overallJobSatisfaction peopleAroundUsesInternet  \\\n",
       "Ajaykbansal68                        4                        2   \n",
       "Chetankg42                           3                        3   \n",
       "aartichahar2565                      4                        1   \n",
       "abdulmuwahib                         4                        3   \n",
       "abhi012355                           3                        2   \n",
       "\n",
       "                platformUsedOnInternet productionScore  \\\n",
       "Ajaykbansal68                        3               9   \n",
       "Chetankg42                           1               4   \n",
       "aartichahar2565                      1               9   \n",
       "abdulmuwahib                         1               6   \n",
       "abhi012355                           1               6   \n",
       "\n",
       "                prominentTimeOfInternetUse taskCompleted timeSpentOnInternet  \\\n",
       "Ajaykbansal68                            2             2                   2   \n",
       "Chetankg42                               4             5                   4   \n",
       "aartichahar2565                          3             5                   2   \n",
       "abdulmuwahib                             2             3                   4   \n",
       "abhi012355                               4             4                   4   \n",
       "\n",
       "                unnecessaryTeamMeetings  \n",
       "Ajaykbansal68                         1  \n",
       "Chetankg42                            1  \n",
       "aartichahar2565                       2  \n",
       "abdulmuwahib                          3  \n",
       "abhi012355                            2  \n",
       "\n",
       "[5 rows x 21 columns]"
      ]
     },
     "execution_count": 6,
     "metadata": {},
     "output_type": "execute_result"
    }
   ],
   "source": [
    "df.dropna(how='any',subset=['name'],inplace=True,axis=0)\n",
    "df.head()"
   ]
  },
  {
   "cell_type": "code",
   "execution_count": 7,
   "metadata": {},
   "outputs": [
    {
     "data": {
      "text/plain": [
       "(110, 21)"
      ]
     },
     "execution_count": 7,
     "metadata": {},
     "output_type": "execute_result"
    }
   ],
   "source": [
    "df.shape"
   ]
  },
  {
   "cell_type": "code",
   "execution_count": 8,
   "metadata": {},
   "outputs": [],
   "source": [
    "df.reset_index(inplace=True,drop=True)\n",
    "df.drop([0,1,2],axis=0,inplace=True)"
   ]
  },
  {
   "cell_type": "markdown",
   "metadata": {},
   "source": [
    "# Factor Analysis"
   ]
  },
  {
   "cell_type": "code",
   "execution_count": 9,
   "metadata": {},
   "outputs": [
    {
     "data": {
      "text/html": [
       "<div>\n",
       "<style scoped>\n",
       "    .dataframe tbody tr th:only-of-type {\n",
       "        vertical-align: middle;\n",
       "    }\n",
       "\n",
       "    .dataframe tbody tr th {\n",
       "        vertical-align: top;\n",
       "    }\n",
       "\n",
       "    .dataframe thead th {\n",
       "        text-align: right;\n",
       "    }\n",
       "</style>\n",
       "<table border=\"1\" class=\"dataframe\">\n",
       "  <thead>\n",
       "    <tr style=\"text-align: right;\">\n",
       "      <th></th>\n",
       "      <th>timeSpentOnInternet</th>\n",
       "      <th>leisureTimeThingsToDo</th>\n",
       "      <th>monotonousAndBoring</th>\n",
       "      <th>unnecessaryTeamMeetings</th>\n",
       "      <th>needShortBreak</th>\n",
       "      <th>taskCompleted</th>\n",
       "      <th>overTime</th>\n",
       "      <th>peopleAroundUsesInternet</th>\n",
       "      <th>internetUseEnjoyable</th>\n",
       "    </tr>\n",
       "  </thead>\n",
       "  <tbody>\n",
       "    <tr>\n",
       "      <th>3</th>\n",
       "      <td>4</td>\n",
       "      <td>1</td>\n",
       "      <td>4</td>\n",
       "      <td>3</td>\n",
       "      <td>4</td>\n",
       "      <td>3</td>\n",
       "      <td>3</td>\n",
       "      <td>3</td>\n",
       "      <td>4</td>\n",
       "    </tr>\n",
       "    <tr>\n",
       "      <th>4</th>\n",
       "      <td>4</td>\n",
       "      <td>2</td>\n",
       "      <td>4</td>\n",
       "      <td>2</td>\n",
       "      <td>2</td>\n",
       "      <td>4</td>\n",
       "      <td>4</td>\n",
       "      <td>2</td>\n",
       "      <td>4</td>\n",
       "    </tr>\n",
       "    <tr>\n",
       "      <th>5</th>\n",
       "      <td>4</td>\n",
       "      <td>2</td>\n",
       "      <td>1</td>\n",
       "      <td>1</td>\n",
       "      <td>4</td>\n",
       "      <td>5</td>\n",
       "      <td>1</td>\n",
       "      <td>2</td>\n",
       "      <td>1</td>\n",
       "    </tr>\n",
       "    <tr>\n",
       "      <th>6</th>\n",
       "      <td>4</td>\n",
       "      <td>2</td>\n",
       "      <td>2</td>\n",
       "      <td>4</td>\n",
       "      <td>4</td>\n",
       "      <td>5</td>\n",
       "      <td>5</td>\n",
       "      <td>3</td>\n",
       "      <td>2</td>\n",
       "    </tr>\n",
       "    <tr>\n",
       "      <th>7</th>\n",
       "      <td>2</td>\n",
       "      <td>1</td>\n",
       "      <td>4</td>\n",
       "      <td>2</td>\n",
       "      <td>3</td>\n",
       "      <td>5</td>\n",
       "      <td>4</td>\n",
       "      <td>4</td>\n",
       "      <td>3</td>\n",
       "    </tr>\n",
       "  </tbody>\n",
       "</table>\n",
       "</div>"
      ],
      "text/plain": [
       "   timeSpentOnInternet  leisureTimeThingsToDo  monotonousAndBoring  \\\n",
       "3                    4                      1                    4   \n",
       "4                    4                      2                    4   \n",
       "5                    4                      2                    1   \n",
       "6                    4                      2                    2   \n",
       "7                    2                      1                    4   \n",
       "\n",
       "   unnecessaryTeamMeetings  needShortBreak  taskCompleted  overTime  \\\n",
       "3                        3               4              3         3   \n",
       "4                        2               2              4         4   \n",
       "5                        1               4              5         1   \n",
       "6                        4               4              5         5   \n",
       "7                        2               3              5         4   \n",
       "\n",
       "   peopleAroundUsesInternet  internetUseEnjoyable  \n",
       "3                         3                     4  \n",
       "4                         2                     4  \n",
       "5                         2                     1  \n",
       "6                         3                     2  \n",
       "7                         4                     3  "
      ]
     },
     "execution_count": 9,
     "metadata": {},
     "output_type": "execute_result"
    }
   ],
   "source": [
    "fact=df[['timeSpentOnInternet','leisureTimeThingsToDo','monotonousAndBoring','unnecessaryTeamMeetings',\n",
    "         'needShortBreak','taskCompleted','overTime','peopleAroundUsesInternet','internetUseEnjoyable']]\n",
    "fact=fact.astype('int')\n",
    "fact.head()"
   ]
  },
  {
   "cell_type": "code",
   "execution_count": 10,
   "metadata": {},
   "outputs": [
    {
     "data": {
      "text/plain": [
       "(120.4426345012754, 1.7777470972902128e-11)"
      ]
     },
     "execution_count": 10,
     "metadata": {},
     "output_type": "execute_result"
    }
   ],
   "source": [
    "#P-Value Test\n",
    "chi_square_value,p_value=calculate_bartlett_sphericity(fact)\n",
    "chi_square_value, p_value"
   ]
  },
  {
   "cell_type": "code",
   "execution_count": 11,
   "metadata": {},
   "outputs": [
    {
     "name": "stdout",
     "output_type": "stream",
     "text": [
      "0.6138712856653359\n"
     ]
    }
   ],
   "source": [
    "#KMO TEST\n",
    "kmo_all,kmo_model=calculate_kmo(fact)\n",
    "print(kmo_model)"
   ]
  },
  {
   "cell_type": "code",
   "execution_count": 12,
   "metadata": {},
   "outputs": [
    {
     "name": "stdout",
     "output_type": "stream",
     "text": [
      "[2.26332314 1.30783279 1.17778085 1.08039372 0.80442134 0.77586931\n",
      " 0.63570008 0.53940815 0.41527061]\n",
      "[ 1.80654302  0.66755935  0.60108769  0.25920178  0.09100451  0.01129445\n",
      " -0.07134644 -0.13207673 -0.16445426]\n"
     ]
    }
   ],
   "source": [
    "# Create factor analysis object and perform factor analysis\n",
    "fa = FactorAnalyzer(rotation=None)\n",
    "fa.fit(fact)\n",
    "# Check Eigenvalues\n",
    "ev, v = fa.get_eigenvalues()\n",
    "print(ev)\n",
    "print(v)"
   ]
  },
  {
   "cell_type": "code",
   "execution_count": 13,
   "metadata": {},
   "outputs": [],
   "source": [
    "eigen=[]\n",
    "for i in range(0,len(ev)):\n",
    "    if ev[i]>=1:\n",
    "        eigen.append(ev[i])"
   ]
  },
  {
   "cell_type": "code",
   "execution_count": 14,
   "metadata": {},
   "outputs": [
    {
     "data": {
      "image/png": "[encoded data removed]",
      "text/plain": [
       "<Figure size 432x288 with 1 Axes>"
      ]
     },
     "metadata": {
      "needs_background": "light"
     },
     "output_type": "display_data"
    },
    {
     "data": {
      "text/plain": [
       "<Figure size 432x288 with 0 Axes>"
      ]
     },
     "metadata": {},
     "output_type": "display_data"
    }
   ],
   "source": [
    "#Plotting Scree Plot\n",
    "plt.scatter(range(1,fact.shape[1]+1),ev)\n",
    "plt.plot(range(1,fact.shape[1]+1),ev)\n",
    "plt.title('Scree Plot')\n",
    "plt.xlabel('Factors')\n",
    "plt.ylabel('Eigenvalue')\n",
    "plt.grid()\n",
    "plt.show()\n",
    "plt.savefig('Scree_PLot.png')"
   ]
  },
  {
   "cell_type": "code",
   "execution_count": 15,
   "metadata": {},
   "outputs": [
    {
     "data": {
      "text/plain": [
       "FactorAnalyzer(bounds=(0.005, 1), impute='median', is_corr_matrix=False,\n",
       "        method='principal', n_factors=4, rotation='varimax',\n",
       "        rotation_kwargs={}, use_smc=True)"
      ]
     },
     "execution_count": 15,
     "metadata": {},
     "output_type": "execute_result"
    }
   ],
   "source": [
    "# Create factor analysis object and perform factor analysis\n",
    "fa1 = FactorAnalyzer(n_factors=len(eigen),rotation='Varimax',method='principal')\n",
    "fa1.fit(fact)"
   ]
  },
  {
   "cell_type": "code",
   "execution_count": 16,
   "metadata": {},
   "outputs": [
    {
     "data": {
      "text/plain": [
       "array([[-0.00558197,  0.54561573,  0.54348254,  0.10353955],\n",
       "       [ 0.01326476, -0.17041903,  0.83666344, -0.05749035],\n",
       "       [ 0.77577191,  0.11062645, -0.32203959, -0.07457769],\n",
       "       [ 0.73887875, -0.02601727,  0.25474308, -0.08030555],\n",
       "       [ 0.58352401,  0.26492006, -0.03949608,  0.02018587],\n",
       "       [-0.06736729,  0.05197682, -0.04273293,  0.91214814],\n",
       "       [ 0.63993676, -0.16775548,  0.08859579,  0.47420821],\n",
       "       [ 0.03278122,  0.77963813, -0.24922876, -0.11950409],\n",
       "       [ 0.39263858,  0.53330453,  0.07808792,  0.31239274]])"
      ]
     },
     "execution_count": 16,
     "metadata": {},
     "output_type": "execute_result"
    }
   ],
   "source": [
    "fa1.loadings_"
   ]
  },
  {
   "cell_type": "code",
   "execution_count": 17,
   "metadata": {},
   "outputs": [
    {
     "data": {
      "text/plain": [
       "(array([2.05776832, 1.33292974, 1.24343047, 1.19520198]),\n",
       " array([0.22864092, 0.1481033 , 0.13815894, 0.13280022]),\n",
       " array([0.22864092, 0.37674423, 0.51490317, 0.64770339]))"
      ]
     },
     "execution_count": 17,
     "metadata": {},
     "output_type": "execute_result"
    }
   ],
   "source": [
    "fa1.get_factor_variance()"
   ]
  },
  {
   "cell_type": "code",
   "execution_count": 18,
   "metadata": {},
   "outputs": [
    {
     "data": {
      "text/html": [
       "<div>\n",
       "<style scoped>\n",
       "    .dataframe tbody tr th:only-of-type {\n",
       "        vertical-align: middle;\n",
       "    }\n",
       "\n",
       "    .dataframe tbody tr th {\n",
       "        vertical-align: top;\n",
       "    }\n",
       "\n",
       "    .dataframe thead th {\n",
       "        text-align: right;\n",
       "    }\n",
       "</style>\n",
       "<table border=\"1\" class=\"dataframe\">\n",
       "  <thead>\n",
       "    <tr style=\"text-align: right;\">\n",
       "      <th></th>\n",
       "      <th>Factors</th>\n",
       "      <th>Eigen_Value</th>\n",
       "    </tr>\n",
       "  </thead>\n",
       "  <tbody>\n",
       "    <tr>\n",
       "      <th>0</th>\n",
       "      <td>Boredom</td>\n",
       "      <td>2.263323</td>\n",
       "    </tr>\n",
       "    <tr>\n",
       "      <th>1</th>\n",
       "      <td>Work Completed</td>\n",
       "      <td>1.307833</td>\n",
       "    </tr>\n",
       "    <tr>\n",
       "      <th>2</th>\n",
       "      <td>Work Environment</td>\n",
       "      <td>1.177781</td>\n",
       "    </tr>\n",
       "    <tr>\n",
       "      <th>3</th>\n",
       "      <td>Habit</td>\n",
       "      <td>1.080394</td>\n",
       "    </tr>\n",
       "  </tbody>\n",
       "</table>\n",
       "</div>"
      ],
      "text/plain": [
       "            Factors  Eigen_Value\n",
       "0           Boredom     2.263323\n",
       "1    Work Completed     1.307833\n",
       "2  Work Environment     1.177781\n",
       "3             Habit     1.080394"
      ]
     },
     "execution_count": 18,
     "metadata": {},
     "output_type": "execute_result"
    }
   ],
   "source": [
    "factor_names=['Boredom','Work Completed','Work Environment','Habit']\n",
    "factor=pd.DataFrame({'Factors':factor_names,'Eigen_Value':eigen})\n",
    "factor.head()"
   ]
  },
  {
   "cell_type": "code",
   "execution_count": 19,
   "metadata": {},
   "outputs": [
    {
     "name": "stderr",
     "output_type": "stream",
     "text": [
      "C:\\Users\\saurabh\\Anaconda3\\lib\\site-packages\\matplotlib\\figure.py:98: MatplotlibDeprecationWarning: \n",
      "Adding an axes using the same arguments as a previous axes currently reuses the earlier instance.  In a future version, a new instance will always be created and returned.  Meanwhile, this warning can be suppressed, and the future behavior ensured, by passing a unique label to each axes instance.\n",
      "  \"Adding an axes using the same arguments as a previous axes \"\n"
     ]
    },
    {
     "data": {
      "image/png": "[encoded data removed]",
      "text/plain": [
       "<Figure size 648x504 with 1 Axes>"
      ]
     },
     "metadata": {
      "needs_background": "light"
     },
     "output_type": "display_data"
    }
   ],
   "source": [
    "plt.figure(figsize=(9,7))\n",
    "sns.barplot(x='Factors',y='Eigen_Value',data=factor)\n",
    "ax=plt.axes()\n",
    "plt.title('Visulalization of Factors Dominating')\n",
    "ax.set_facecolor('whitesmoke')\n",
    "plt.ylabel('Eigen Value of the factors')\n",
    "plt.savefig('Factor.png')"
   ]
  },
  {
   "cell_type": "markdown",
   "metadata": {},
   "source": [
    "# Cluster Analysis"
   ]
  },
  {
   "cell_type": "code",
   "execution_count": 20,
   "metadata": {},
   "outputs": [
    {
     "data": {
      "text/html": [
       "<div>\n",
       "<style scoped>\n",
       "    .dataframe tbody tr th:only-of-type {\n",
       "        vertical-align: middle;\n",
       "    }\n",
       "\n",
       "    .dataframe tbody tr th {\n",
       "        vertical-align: top;\n",
       "    }\n",
       "\n",
       "    .dataframe thead th {\n",
       "        text-align: right;\n",
       "    }\n",
       "</style>\n",
       "<table border=\"1\" class=\"dataframe\">\n",
       "  <thead>\n",
       "    <tr style=\"text-align: right;\">\n",
       "      <th></th>\n",
       "      <th>timeSpentOnInternet</th>\n",
       "      <th>peopleAroundUsesInternet</th>\n",
       "      <th>internetUseEnjoyable</th>\n",
       "      <th>name</th>\n",
       "    </tr>\n",
       "  </thead>\n",
       "  <tbody>\n",
       "    <tr>\n",
       "      <th>3</th>\n",
       "      <td>4</td>\n",
       "      <td>3</td>\n",
       "      <td>4</td>\n",
       "      <td>Abdul Muwahib</td>\n",
       "    </tr>\n",
       "    <tr>\n",
       "      <th>4</th>\n",
       "      <td>4</td>\n",
       "      <td>2</td>\n",
       "      <td>4</td>\n",
       "      <td>Abhishek Kumar</td>\n",
       "    </tr>\n",
       "    <tr>\n",
       "      <th>5</th>\n",
       "      <td>4</td>\n",
       "      <td>2</td>\n",
       "      <td>1</td>\n",
       "      <td>Abhishek goyal</td>\n",
       "    </tr>\n",
       "    <tr>\n",
       "      <th>6</th>\n",
       "      <td>4</td>\n",
       "      <td>3</td>\n",
       "      <td>2</td>\n",
       "      <td>Abhishek Bajpai</td>\n",
       "    </tr>\n",
       "    <tr>\n",
       "      <th>7</th>\n",
       "      <td>2</td>\n",
       "      <td>4</td>\n",
       "      <td>3</td>\n",
       "      <td>Abhishek Jagga</td>\n",
       "    </tr>\n",
       "  </tbody>\n",
       "</table>\n",
       "</div>"
      ],
      "text/plain": [
       "  timeSpentOnInternet peopleAroundUsesInternet internetUseEnjoyable  \\\n",
       "3                   4                        3                    4   \n",
       "4                   4                        2                    4   \n",
       "5                   4                        2                    1   \n",
       "6                   4                        3                    2   \n",
       "7                   2                        4                    3   \n",
       "\n",
       "              name  \n",
       "3    Abdul Muwahib  \n",
       "4  Abhishek Kumar   \n",
       "5   Abhishek goyal  \n",
       "6  Abhishek Bajpai  \n",
       "7   Abhishek Jagga  "
      ]
     },
     "execution_count": 20,
     "metadata": {},
     "output_type": "execute_result"
    }
   ],
   "source": [
    "clus=df[['timeSpentOnInternet','peopleAroundUsesInternet','internetUseEnjoyable','name']]\n",
    "clus.head()"
   ]
  },
  {
   "cell_type": "code",
   "execution_count": 21,
   "metadata": {},
   "outputs": [
    {
     "data": {
      "text/html": [
       "<div>\n",
       "<style scoped>\n",
       "    .dataframe tbody tr th:only-of-type {\n",
       "        vertical-align: middle;\n",
       "    }\n",
       "\n",
       "    .dataframe tbody tr th {\n",
       "        vertical-align: top;\n",
       "    }\n",
       "\n",
       "    .dataframe thead th {\n",
       "        text-align: right;\n",
       "    }\n",
       "</style>\n",
       "<table border=\"1\" class=\"dataframe\">\n",
       "  <thead>\n",
       "    <tr style=\"text-align: right;\">\n",
       "      <th></th>\n",
       "      <th>timeSpentOnInternet</th>\n",
       "      <th>peopleAroundUsesInternet</th>\n",
       "      <th>internetUseEnjoyable</th>\n",
       "    </tr>\n",
       "    <tr>\n",
       "      <th>name</th>\n",
       "      <th></th>\n",
       "      <th></th>\n",
       "      <th></th>\n",
       "    </tr>\n",
       "  </thead>\n",
       "  <tbody>\n",
       "    <tr>\n",
       "      <th>Abdul Muwahib</th>\n",
       "      <td>4</td>\n",
       "      <td>3</td>\n",
       "      <td>4</td>\n",
       "    </tr>\n",
       "    <tr>\n",
       "      <th>Abhishek Kumar</th>\n",
       "      <td>4</td>\n",
       "      <td>2</td>\n",
       "      <td>4</td>\n",
       "    </tr>\n",
       "    <tr>\n",
       "      <th>Abhishek goyal</th>\n",
       "      <td>4</td>\n",
       "      <td>2</td>\n",
       "      <td>1</td>\n",
       "    </tr>\n",
       "    <tr>\n",
       "      <th>Abhishek Bajpai</th>\n",
       "      <td>4</td>\n",
       "      <td>3</td>\n",
       "      <td>2</td>\n",
       "    </tr>\n",
       "    <tr>\n",
       "      <th>Abhishek Jagga</th>\n",
       "      <td>2</td>\n",
       "      <td>4</td>\n",
       "      <td>3</td>\n",
       "    </tr>\n",
       "  </tbody>\n",
       "</table>\n",
       "</div>"
      ],
      "text/plain": [
       "                timeSpentOnInternet peopleAroundUsesInternet  \\\n",
       "name                                                           \n",
       "Abdul Muwahib                     4                        3   \n",
       "Abhishek Kumar                    4                        2   \n",
       "Abhishek goyal                    4                        2   \n",
       "Abhishek Bajpai                   4                        3   \n",
       "Abhishek Jagga                    2                        4   \n",
       "\n",
       "                internetUseEnjoyable  \n",
       "name                                  \n",
       "Abdul Muwahib                      4  \n",
       "Abhishek Kumar                     4  \n",
       "Abhishek goyal                     1  \n",
       "Abhishek Bajpai                    2  \n",
       "Abhishek Jagga                     3  "
      ]
     },
     "execution_count": 21,
     "metadata": {},
     "output_type": "execute_result"
    }
   ],
   "source": [
    "clus.set_index('name',inplace=True)\n",
    "clus.head()"
   ]
  },
  {
   "cell_type": "markdown",
   "metadata": {},
   "source": [
    "## Drendogram"
   ]
  },
  {
   "cell_type": "code",
   "execution_count": 25,
   "metadata": {},
   "outputs": [
    {
     "name": "stderr",
     "output_type": "stream",
     "text": [
      "C:\\Users\\saurabh\\Anaconda3\\lib\\site-packages\\matplotlib\\figure.py:2366: UserWarning: This figure includes Axes that are not compatible with tight_layout, so results might be incorrect.\n",
      "  warnings.warn(\"This figure includes Axes that are not compatible \"\n"
     ]
    },
    {
     "data": {
      "image/png": "[encoded data removed]",
      "text/plain": [
       "<Figure size 432x288 with 1 Axes>"
      ]
     },
     "metadata": {
      "needs_background": "light"
     },
     "output_type": "display_data"
    }
   ],
   "source": [
    "plt.figure()\n",
    "# Create Dendrogram\n",
    "dendrogram = sch.dendrogram(sch.linkage(clus, method='ward'))\n",
    "from matplotlib import rcParams\n",
    "rcParams.update({'figure.autolayout': True})\n",
    "plt.savefig('Drendogram.png')"
   ]
  },
  {
   "cell_type": "code",
   "execution_count": 26,
   "metadata": {},
   "outputs": [
    {
     "name": "stdout",
     "output_type": "stream",
     "text": [
      "[0 0 1 1 0 1 0 0 0 0 0 0 0 0 0 1 1 0 0 1 0 0 0 0 0 0 1 0 0 0 0 0 1 1 0 0 0\n",
      " 0 0 1 0 0 0 0 0 0 0 0 0 0 0 0 0 1 0 0 1 0 0 1 0 1 0 0 0 0 0 1 0 0 1 0 1 0\n",
      " 1 0 0 0 1 1 1 0 0 1 1 0 0 0 1 0 0 0 1 0 0 0 0 1 0 0 0 0 0 0 1 0 0]\n"
     ]
    }
   ],
   "source": [
    "# Using Hierarichal Clustering\n",
    "from sklearn.cluster import AgglomerativeClustering\n",
    "hc=AgglomerativeClustering(n_clusters=2,affinity='euclidean', linkage='ward')\n",
    "y_hc=hc.fit_predict(clus)\n",
    "print(y_hc)"
   ]
  },
  {
   "cell_type": "code",
   "execution_count": 27,
   "metadata": {},
   "outputs": [
    {
     "name": "stdout",
     "output_type": "stream",
     "text": [
      "[0 0 1 1 0 1 0 1 0 0 0 0 0 0 0 1 1 0 0 1 0 0 0 1 0 0 1 1 0 0 0 0 1 1 0 0 0\n",
      " 0 1 1 0 0 0 0 0 0 1 0 0 0 0 0 0 1 0 0 1 0 0 1 0 1 0 0 0 0 0 1 0 0 1 0 1 0\n",
      " 1 0 1 0 1 1 1 0 0 1 1 1 0 1 1 0 0 0 1 0 1 1 1 1 0 0 0 0 1 0 1 0 1]\n"
     ]
    }
   ],
   "source": [
    "# Using K-Means CLustering\n",
    "kmeans=KMeans(n_clusters=2,init='k-means++',max_iter=300,n_init=10,random_state=0)\n",
    "y_kmeans=kmeans.fit_predict(clus)\n",
    "print(y_kmeans)"
   ]
  },
  {
   "cell_type": "code",
   "execution_count": 28,
   "metadata": {},
   "outputs": [],
   "source": [
    "a=pd.DataFrame({'Cyberloafer Type':y_kmeans,'Name of the Employee':df['name']})"
   ]
  },
  {
   "cell_type": "code",
   "execution_count": 29,
   "metadata": {},
   "outputs": [
    {
     "name": "stderr",
     "output_type": "stream",
     "text": [
      "C:\\Users\\saurabh\\Anaconda3\\lib\\site-packages\\matplotlib\\figure.py:98: MatplotlibDeprecationWarning: \n",
      "Adding an axes using the same arguments as a previous axes currently reuses the earlier instance.  In a future version, a new instance will always be created and returned.  Meanwhile, this warning can be suppressed, and the future behavior ensured, by passing a unique label to each axes instance.\n",
      "  \"Adding an axes using the same arguments as a previous axes \"\n",
      "C:\\Users\\saurabh\\Anaconda3\\lib\\site-packages\\matplotlib\\figure.py:2366: UserWarning: This figure includes Axes that are not compatible with tight_layout, so results might be incorrect.\n",
      "  warnings.warn(\"This figure includes Axes that are not compatible \"\n"
     ]
    },
    {
     "data": {
      "image/png": "[encoded data removed]",
      "text/plain": [
       "<Figure size 504x504 with 1 Axes>"
      ]
     },
     "metadata": {
      "needs_background": "light"
     },
     "output_type": "display_data"
    }
   ],
   "source": [
    "# Countplot\n",
    "plt.figure(figsize=(7,7))\n",
    "sns.countplot(a['Cyberloafer Type'])\n",
    "plt.title('Count of Type of Cyberloafers')\n",
    "ax=plt.axes()\n",
    "ax.set_facecolor('whitesmoke')\n",
    "plt.savefig('Count.png')"
   ]
  },
  {
   "cell_type": "code",
   "execution_count": 30,
   "metadata": {},
   "outputs": [
    {
     "data": {
      "text/html": [
       "<div>\n",
       "<style scoped>\n",
       "    .dataframe tbody tr th:only-of-type {\n",
       "        vertical-align: middle;\n",
       "    }\n",
       "\n",
       "    .dataframe tbody tr th {\n",
       "        vertical-align: top;\n",
       "    }\n",
       "\n",
       "    .dataframe thead th {\n",
       "        text-align: right;\n",
       "    }\n",
       "</style>\n",
       "<table border=\"1\" class=\"dataframe\">\n",
       "  <thead>\n",
       "    <tr style=\"text-align: right;\">\n",
       "      <th></th>\n",
       "      <th>Cyberloafer Type</th>\n",
       "    </tr>\n",
       "    <tr>\n",
       "      <th>Name of the Employee</th>\n",
       "      <th></th>\n",
       "    </tr>\n",
       "  </thead>\n",
       "  <tbody>\n",
       "    <tr>\n",
       "      <th>Abdul Muwahib</th>\n",
       "      <td>0</td>\n",
       "    </tr>\n",
       "    <tr>\n",
       "      <th>Abhishek Kumar</th>\n",
       "      <td>0</td>\n",
       "    </tr>\n",
       "    <tr>\n",
       "      <th>Abhishek goyal</th>\n",
       "      <td>1</td>\n",
       "    </tr>\n",
       "    <tr>\n",
       "      <th>Abhishek Bajpai</th>\n",
       "      <td>1</td>\n",
       "    </tr>\n",
       "    <tr>\n",
       "      <th>Abhishek Jagga</th>\n",
       "      <td>0</td>\n",
       "    </tr>\n",
       "  </tbody>\n",
       "</table>\n",
       "</div>"
      ],
      "text/plain": [
       "                      Cyberloafer Type\n",
       "Name of the Employee                  \n",
       "Abdul Muwahib                        0\n",
       "Abhishek Kumar                       0\n",
       "Abhishek goyal                       1\n",
       "Abhishek Bajpai                      1\n",
       "Abhishek Jagga                       0"
      ]
     },
     "execution_count": 30,
     "metadata": {},
     "output_type": "execute_result"
    }
   ],
   "source": [
    "a.set_index('Name of the Employee',inplace=True)\n",
    "a.head()"
   ]
  },
  {
   "cell_type": "code",
   "execution_count": 31,
   "metadata": {},
   "outputs": [
    {
     "data": {
      "text/html": [
       "<div>\n",
       "<style scoped>\n",
       "    .dataframe tbody tr th:only-of-type {\n",
       "        vertical-align: middle;\n",
       "    }\n",
       "\n",
       "    .dataframe tbody tr th {\n",
       "        vertical-align: top;\n",
       "    }\n",
       "\n",
       "    .dataframe thead th {\n",
       "        text-align: right;\n",
       "    }\n",
       "</style>\n",
       "<table border=\"1\" class=\"dataframe\">\n",
       "  <thead>\n",
       "    <tr style=\"text-align: right;\">\n",
       "      <th></th>\n",
       "      <th>Cyberloafer Type</th>\n",
       "    </tr>\n",
       "    <tr>\n",
       "      <th>Name of the Employee</th>\n",
       "      <th></th>\n",
       "    </tr>\n",
       "  </thead>\n",
       "  <tbody>\n",
       "    <tr>\n",
       "      <th>Abdul Muwahib</th>\n",
       "      <td>Low Cyberloafer</td>\n",
       "    </tr>\n",
       "    <tr>\n",
       "      <th>Abhishek Kumar</th>\n",
       "      <td>Low Cyberloafer</td>\n",
       "    </tr>\n",
       "    <tr>\n",
       "      <th>Abhishek goyal</th>\n",
       "      <td>High Cyberloafer</td>\n",
       "    </tr>\n",
       "    <tr>\n",
       "      <th>Abhishek Bajpai</th>\n",
       "      <td>High Cyberloafer</td>\n",
       "    </tr>\n",
       "    <tr>\n",
       "      <th>Abhishek Jagga</th>\n",
       "      <td>Low Cyberloafer</td>\n",
       "    </tr>\n",
       "  </tbody>\n",
       "</table>\n",
       "</div>"
      ],
      "text/plain": [
       "                      Cyberloafer Type\n",
       "Name of the Employee                  \n",
       "Abdul Muwahib          Low Cyberloafer\n",
       "Abhishek Kumar         Low Cyberloafer\n",
       "Abhishek goyal        High Cyberloafer\n",
       "Abhishek Bajpai       High Cyberloafer\n",
       "Abhishek Jagga         Low Cyberloafer"
      ]
     },
     "execution_count": 31,
     "metadata": {},
     "output_type": "execute_result"
    }
   ],
   "source": [
    "a['Cyberloafer Type']=a['Cyberloafer Type'].map({0:'Low Cyberloafer',1:'High Cyberloafer'})\n",
    "a.head()"
   ]
  },
  {
   "cell_type": "code",
   "execution_count": 32,
   "metadata": {},
   "outputs": [],
   "source": [
    "clus['Cyberloafer Type']=a['Cyberloafer Type']"
   ]
  },
  {
   "cell_type": "code",
   "execution_count": 33,
   "metadata": {},
   "outputs": [
    {
     "data": {
      "text/html": [
       "<div>\n",
       "<style scoped>\n",
       "    .dataframe tbody tr th:only-of-type {\n",
       "        vertical-align: middle;\n",
       "    }\n",
       "\n",
       "    .dataframe tbody tr th {\n",
       "        vertical-align: top;\n",
       "    }\n",
       "\n",
       "    .dataframe thead th {\n",
       "        text-align: right;\n",
       "    }\n",
       "</style>\n",
       "<table border=\"1\" class=\"dataframe\">\n",
       "  <thead>\n",
       "    <tr style=\"text-align: right;\">\n",
       "      <th></th>\n",
       "      <th>timeSpentOnInternet</th>\n",
       "      <th>peopleAroundUsesInternet</th>\n",
       "      <th>internetUseEnjoyable</th>\n",
       "      <th>Cyberloafer Type</th>\n",
       "    </tr>\n",
       "    <tr>\n",
       "      <th>name</th>\n",
       "      <th></th>\n",
       "      <th></th>\n",
       "      <th></th>\n",
       "      <th></th>\n",
       "    </tr>\n",
       "  </thead>\n",
       "  <tbody>\n",
       "    <tr>\n",
       "      <th>Abdul Muwahib</th>\n",
       "      <td>4</td>\n",
       "      <td>3</td>\n",
       "      <td>4</td>\n",
       "      <td>Low Cyberloafer</td>\n",
       "    </tr>\n",
       "    <tr>\n",
       "      <th>Abhishek Kumar</th>\n",
       "      <td>4</td>\n",
       "      <td>2</td>\n",
       "      <td>4</td>\n",
       "      <td>Low Cyberloafer</td>\n",
       "    </tr>\n",
       "    <tr>\n",
       "      <th>Abhishek goyal</th>\n",
       "      <td>4</td>\n",
       "      <td>2</td>\n",
       "      <td>1</td>\n",
       "      <td>High Cyberloafer</td>\n",
       "    </tr>\n",
       "    <tr>\n",
       "      <th>Abhishek Bajpai</th>\n",
       "      <td>4</td>\n",
       "      <td>3</td>\n",
       "      <td>2</td>\n",
       "      <td>High Cyberloafer</td>\n",
       "    </tr>\n",
       "    <tr>\n",
       "      <th>Abhishek Jagga</th>\n",
       "      <td>2</td>\n",
       "      <td>4</td>\n",
       "      <td>3</td>\n",
       "      <td>Low Cyberloafer</td>\n",
       "    </tr>\n",
       "  </tbody>\n",
       "</table>\n",
       "</div>"
      ],
      "text/plain": [
       "                timeSpentOnInternet peopleAroundUsesInternet  \\\n",
       "name                                                           \n",
       "Abdul Muwahib                     4                        3   \n",
       "Abhishek Kumar                    4                        2   \n",
       "Abhishek goyal                    4                        2   \n",
       "Abhishek Bajpai                   4                        3   \n",
       "Abhishek Jagga                    2                        4   \n",
       "\n",
       "                internetUseEnjoyable  Cyberloafer Type  \n",
       "name                                                    \n",
       "Abdul Muwahib                      4   Low Cyberloafer  \n",
       "Abhishek Kumar                     4   Low Cyberloafer  \n",
       "Abhishek goyal                     1  High Cyberloafer  \n",
       "Abhishek Bajpai                    2  High Cyberloafer  \n",
       "Abhishek Jagga                     3   Low Cyberloafer  "
      ]
     },
     "execution_count": 33,
     "metadata": {},
     "output_type": "execute_result"
    }
   ],
   "source": [
    "clus.head()"
   ]
  },
  {
   "cell_type": "markdown",
   "metadata": {},
   "source": [
    "# Predicting The New Data Entries"
   ]
  },
  {
   "cell_type": "code",
   "execution_count": 34,
   "metadata": {},
   "outputs": [],
   "source": [
    "X=clus[['timeSpentOnInternet','peopleAroundUsesInternet','internetUseEnjoyable']]\n",
    "y=clus['Cyberloafer Type']"
   ]
  },
  {
   "cell_type": "code",
   "execution_count": 35,
   "metadata": {},
   "outputs": [
    {
     "name": "stdout",
     "output_type": "stream",
     "text": [
      "X_train shape: (80, 3)\n",
      "X_test shape: (27, 3)\n",
      "y_train shape: (80,)\n",
      "y_test shape: (27,)\n"
     ]
    }
   ],
   "source": [
    "from sklearn.model_selection import train_test_split\n",
    "X_train,X_test,y_train,y_test=train_test_split(X,y,test_size=0.25,random_state=0)\n",
    "print(\"X_train shape: \"+str(X_train.shape))\n",
    "print(\"X_test shape: \"+str(X_test.shape))\n",
    "print(\"y_train shape: \"+str(y_train.shape))\n",
    "print(\"y_test shape: \"+str(y_test.shape))"
   ]
  },
  {
   "cell_type": "code",
   "execution_count": 36,
   "metadata": {},
   "outputs": [],
   "source": [
    "knn=KNeighborsClassifier()\n",
    "knn.fit(X_train,y_train)\n",
    "knn_pred=knn.predict(X_test)"
   ]
  },
  {
   "cell_type": "code",
   "execution_count": 37,
   "metadata": {},
   "outputs": [],
   "source": [
    "out=pd.DataFrame({'Cyberloafer Type':knn_pred,'Name':X_test.index})\n",
    "out.set_index('Name',inplace=True)"
   ]
  },
  {
   "cell_type": "code",
   "execution_count": 38,
   "metadata": {},
   "outputs": [
    {
     "data": {
      "text/html": [
       "<div>\n",
       "<style scoped>\n",
       "    .dataframe tbody tr th:only-of-type {\n",
       "        vertical-align: middle;\n",
       "    }\n",
       "\n",
       "    .dataframe tbody tr th {\n",
       "        vertical-align: top;\n",
       "    }\n",
       "\n",
       "    .dataframe thead th {\n",
       "        text-align: right;\n",
       "    }\n",
       "</style>\n",
       "<table border=\"1\" class=\"dataframe\">\n",
       "  <thead>\n",
       "    <tr style=\"text-align: right;\">\n",
       "      <th></th>\n",
       "      <th>Cyberloafer Type</th>\n",
       "    </tr>\n",
       "    <tr>\n",
       "      <th>Name</th>\n",
       "      <th></th>\n",
       "    </tr>\n",
       "  </thead>\n",
       "  <tbody>\n",
       "    <tr>\n",
       "      <th>Harsangeet Singh</th>\n",
       "      <td>High Cyberloafer</td>\n",
       "    </tr>\n",
       "    <tr>\n",
       "      <th>Akshu Gupta</th>\n",
       "      <td>Low Cyberloafer</td>\n",
       "    </tr>\n",
       "    <tr>\n",
       "      <th>radhey sham</th>\n",
       "      <td>Low Cyberloafer</td>\n",
       "    </tr>\n",
       "    <tr>\n",
       "      <th>Abhishek goyal</th>\n",
       "      <td>High Cyberloafer</td>\n",
       "    </tr>\n",
       "    <tr>\n",
       "      <th>Shweta</th>\n",
       "      <td>Low Cyberloafer</td>\n",
       "    </tr>\n",
       "  </tbody>\n",
       "</table>\n",
       "</div>"
      ],
      "text/plain": [
       "                  Cyberloafer Type\n",
       "Name                              \n",
       "Harsangeet Singh  High Cyberloafer\n",
       "Akshu Gupta        Low Cyberloafer\n",
       "radhey sham        Low Cyberloafer\n",
       "Abhishek goyal    High Cyberloafer\n",
       "Shweta             Low Cyberloafer"
      ]
     },
     "execution_count": 38,
     "metadata": {},
     "output_type": "execute_result"
    }
   ],
   "source": [
    "out.head()"
   ]
  },
  {
   "cell_type": "markdown",
   "metadata": {},
   "source": [
    "# Relation between Productivity and Cyberloafing"
   ]
  },
  {
   "cell_type": "code",
   "execution_count": 39,
   "metadata": {},
   "outputs": [],
   "source": [
    "df4=df[['productionScore','name']]"
   ]
  },
  {
   "cell_type": "code",
   "execution_count": 40,
   "metadata": {},
   "outputs": [],
   "source": [
    "df4.set_index('name',inplace=True)"
   ]
  },
  {
   "cell_type": "code",
   "execution_count": 41,
   "metadata": {},
   "outputs": [],
   "source": [
    "prod=pd.concat([out,df4],axis=1)\n",
    "prod.dropna(how='any',subset=['productionScore'],axis=0,inplace=True)\n",
    "prod['productionScore']=prod['productionScore'].astype(int)"
   ]
  },
  {
   "cell_type": "code",
   "execution_count": 42,
   "metadata": {},
   "outputs": [
    {
     "name": "stderr",
     "output_type": "stream",
     "text": [
      "C:\\Users\\saurabh\\Anaconda3\\lib\\site-packages\\matplotlib\\figure.py:98: MatplotlibDeprecationWarning: \n",
      "Adding an axes using the same arguments as a previous axes currently reuses the earlier instance.  In a future version, a new instance will always be created and returned.  Meanwhile, this warning can be suppressed, and the future behavior ensured, by passing a unique label to each axes instance.\n",
      "  \"Adding an axes using the same arguments as a previous axes \"\n",
      "C:\\Users\\saurabh\\Anaconda3\\lib\\site-packages\\matplotlib\\figure.py:2366: UserWarning: This figure includes Axes that are not compatible with tight_layout, so results might be incorrect.\n",
      "  warnings.warn(\"This figure includes Axes that are not compatible \"\n"
     ]
    },
    {
     "data": {
      "image/png": "[encoded data removed]",
      "text/plain": [
       "<Figure size 432x432 with 1 Axes>"
      ]
     },
     "metadata": {
      "needs_background": "light"
     },
     "output_type": "display_data"
    }
   ],
   "source": [
    "plt.figure(figsize=(6,6))\n",
    "sns.barplot(x=prod['Cyberloafer Type'],y=prod['productionScore'])\n",
    "plt.title('Productivity v/s Cyberloafing')\n",
    "ax=plt.axes()\n",
    "ax.set_facecolor('whitesmoke')\n",
    "#plt.savefig('Prod.png')"
   ]
  },
  {
   "cell_type": "code",
   "execution_count": null,
   "metadata": {},
   "outputs": [],
   "source": []
  }
 ],
 "metadata": {
  "kernelspec": {
   "display_name": "Python 3",
   "language": "python",
   "name": "python3"
  },
  "language_info": {
   "codemirror_mode": {
    "name": "ipython",
    "version": 3
   },
   "file_extension": ".py",
   "mimetype": "text/x-python",
   "name": "python",
   "nbconvert_exporter": "python",
   "pygments_lexer": "ipython3",
   "version": "3.7.1"
  }
 },
 "nbformat": 4,
 "nbformat_minor": 2
}
